{
 "cells": [
  {
   "cell_type": "markdown",
   "metadata": {
    "id": "5zMhauCbm1h5"
   },
   "source": [
    "# **-------------------------------TRABALHO CCBA----------------------------------**"
   ]
  },
  {
   "cell_type": "markdown",
   "metadata": {},
   "source": [
    "- David Carvalho, nº2242131\n",
    "- Lígia Carteado Mena, nº2242194\n",
    "- Rui Filipe Parada, nº2211025"
   ]
  },
  {
   "cell_type": "markdown",
   "metadata": {},
   "source": [
    "#### **ATENÇÃO**\n",
    "\n",
    "**Dados a alterar ao correr o código:**\n",
    "- **bucket**: secção \"2. Upload do dataset\"\n",
    "- **key**: secção \"2. Upload do dataset\"\n",
    "- **ENDPOINT_NAME**: atualizar nome do endpoint nos documentos \"streamlit_ccba.py\" e \"previsao_tempo_real\" com base no nome dado na secção \"7. Deploy do endpoint\"\n",
    "\n",
    "**Ficheiros:**\n",
    "- na secção \"5. Preprocessing\" são criados dois ficheiros plk. Ter a certeza que estes ficheiros são colocados fora de qualquer pasta na aba de ficehiros do Sagemaker, para não interferir nos diretórios tanto no documento \"previsao_tempo_real\" como no \"streamlit_ccba.py\"\n",
    "\n",
    "**Bibliotecas:** \n",
    "- a célula de imports pode gerar um erro devido às versões instaladas do pip install -U category_encoders. para o ultrapassar (em caso de erro) deve fazer \"shut down kernel\" e correr novamente a célula de imports"
   ]
  },
  {
   "cell_type": "markdown",
   "metadata": {
    "id": "Pfamo_TDbU8K"
   },
   "source": [
    "## **1. IMPORTS**"
   ]
  },
  {
   "cell_type": "code",
   "execution_count": 1,
   "metadata": {},
   "outputs": [
    {
     "name": "stderr",
     "output_type": "stream",
     "text": [
      "/opt/conda/lib/python3.12/site-packages/pydantic/_internal/_fields.py:192: UserWarning: Field name \"json\" in \"MonitoringDatasetFormat\" shadows an attribute in parent \"Base\"\n",
      "  warnings.warn(\n"
     ]
    },
    {
     "name": "stdout",
     "output_type": "stream",
     "text": [
      "sagemaker.config INFO - Not applying SDK defaults from location: /etc/xdg/sagemaker/config.yaml\n",
      "sagemaker.config INFO - Not applying SDK defaults from location: /home/sagemaker-user/.config/sagemaker/config.yaml\n",
      "Requirement already satisfied: category_encoders in /opt/conda/lib/python3.12/site-packages (2.8.1)\n",
      "Requirement already satisfied: numpy>=1.14.0 in /opt/conda/lib/python3.12/site-packages (from category_encoders) (1.26.4)\n",
      "Requirement already satisfied: pandas>=1.0.5 in /opt/conda/lib/python3.12/site-packages (from category_encoders) (2.2.3)\n",
      "Requirement already satisfied: patsy>=0.5.1 in /opt/conda/lib/python3.12/site-packages (from category_encoders) (1.0.1)\n",
      "Requirement already satisfied: scikit-learn>=1.6.0 in /opt/conda/lib/python3.12/site-packages (from category_encoders) (1.7.0)\n",
      "Requirement already satisfied: scipy>=1.0.0 in /opt/conda/lib/python3.12/site-packages (from category_encoders) (1.15.2)\n",
      "Requirement already satisfied: statsmodels>=0.9.0 in /opt/conda/lib/python3.12/site-packages (from category_encoders) (0.14.4)\n",
      "Requirement already satisfied: python-dateutil>=2.8.2 in /opt/conda/lib/python3.12/site-packages (from pandas>=1.0.5->category_encoders) (2.9.0.post0)\n",
      "Requirement already satisfied: pytz>=2020.1 in /opt/conda/lib/python3.12/site-packages (from pandas>=1.0.5->category_encoders) (2024.1)\n",
      "Requirement already satisfied: tzdata>=2022.7 in /opt/conda/lib/python3.12/site-packages (from pandas>=1.0.5->category_encoders) (2025.1)\n",
      "Requirement already satisfied: joblib>=1.2.0 in /opt/conda/lib/python3.12/site-packages (from scikit-learn>=1.6.0->category_encoders) (1.4.2)\n",
      "Requirement already satisfied: threadpoolctl>=3.1.0 in /opt/conda/lib/python3.12/site-packages (from scikit-learn>=1.6.0->category_encoders) (3.6.0)\n",
      "Requirement already satisfied: packaging>=21.3 in /opt/conda/lib/python3.12/site-packages (from statsmodels>=0.9.0->category_encoders) (24.2)\n",
      "Requirement already satisfied: six>=1.5 in /opt/conda/lib/python3.12/site-packages (from python-dateutil>=2.8.2->pandas>=1.0.5->category_encoders) (1.17.0)\n"
     ]
    }
   ],
   "source": [
    "# =====================================\n",
    "# 1. IMPORTS DE BIBLIOTECAS\n",
    "# =====================================\n",
    "\n",
    "# SageMaker\n",
    "import sagemaker\n",
    "from sagemaker.session import Session\n",
    "from sagemaker.xgboost.estimator import XGBoost\n",
    "from sagemaker.serializers import CSVSerializer\n",
    "from sagemaker import image_uris\n",
    "\n",
    "# AWS\n",
    "import boto3\n",
    "\n",
    "# Manipulação de dados\n",
    "import pandas as pd\n",
    "import numpy as np\n",
    "from io import StringIO\n",
    "\n",
    "# Visualização\n",
    "import matplotlib.pyplot as plt\n",
    "import seaborn as sns\n",
    "\n",
    "# Pré-processamento e modelação\n",
    "from sklearn.model_selection import train_test_split, RandomizedSearchCV\n",
    "from sklearn.preprocessing import StandardScaler, LabelEncoder, OneHotEncoder\n",
    "from sklearn.ensemble import RandomForestClassifier\n",
    "from sklearn.compose import ColumnTransformer\n",
    "from xgboost import XGBClassifier\n",
    "\n",
    "# Avaliação\n",
    "from sklearn.metrics import classification_report, confusion_matrix, ConfusionMatrixDisplay\n",
    "\n",
    "# Codificadores\n",
    "!pip install -U category_encoders\n",
    "import joblib\n",
    "from category_encoders import TargetEncoder\n",
    "\n",
    "# Estatística\n",
    "from scipy.stats import chi2_contingency\n",
    "\n",
    "# Outros\n",
    "from IPython.display import display, Markdown\n",
    "import warnings\n",
    "\n",
    "# Ignorar warnings\n",
    "warnings.filterwarnings(\"ignore\")"
   ]
  },
  {
   "cell_type": "markdown",
   "metadata": {
    "id": "2PshK7GzbYJ8"
   },
   "source": [
    "## **2. UPLOAD DO DATASET**"
   ]
  },
  {
   "cell_type": "code",
   "execution_count": 2,
   "metadata": {
    "id": "Ptm9EyRsw0ME"
   },
   "outputs": [
    {
     "name": "stdout",
     "output_type": "stream",
     "text": [
      "                                     Smartphone     Brand           Model  \\\n",
      "0            Realme C55 8/256GB Sunshower Libre    Realme             C55   \n",
      "1      Samsung Galaxy M23 5G 4/128GB Azul Libre   Samsung      Galaxy M23   \n",
      "2  Motorola Moto G13 4/128GB Azul Lavanda Libre  Motorola        Moto G13   \n",
      "3      Xiaomi Redmi Note 11S 6/128GB Gris Libre    Xiaomi  Redmi Note 11S   \n",
      "4       Nothing Phone (2) 12/512GB Blanco Libre   Nothing       Phone (2)   \n",
      "\n",
      "    RAM  Storage   Color Free  Final Price  \n",
      "0   8.0    256.0  Yellow  Yes       231.60  \n",
      "1   4.0    128.0    Blue  Yes       279.00  \n",
      "2   4.0    128.0    Blue  Yes       179.01  \n",
      "3   6.0    128.0    Gray  Yes       279.99  \n",
      "4  12.0    512.0   White  Yes       799.00  \n"
     ]
    }
   ],
   "source": [
    "# =====================================\n",
    "# 2. LEITURA DO FICHEIRO CSV \n",
    "# =====================================\n",
    "\n",
    "# Localizações no S3\n",
    "bucket = 'sagemaker-studio-ab58uyhx74k'\n",
    "key = 'projeto_ccba_data/smartphones.csv'\n",
    "prefix = 'projeto_ccba_data'\n",
    "input_data = f\"s3://{bucket}/{key}\"\n",
    "\n",
    "s3 = boto3.client('s3')\n",
    "csv_obj = s3.get_object(Bucket=bucket, Key=key)\n",
    "body = csv_obj['Body']\n",
    "csv_string = body.read().decode('utf-8')\n",
    "df = pd.read_csv(StringIO(csv_string))\n",
    "\n",
    "print(df.head())\n",
    "\n",
    "# Parâmetros do SageMaker\n",
    "role = sagemaker.get_execution_role()\n",
    "s3_output_location = f\"s3://{bucket}/ccba_projeto/output/\""
   ]
  },
  {
   "cell_type": "markdown",
   "metadata": {
    "id": "kEw6qRRIbrQt"
   },
   "source": [
    "## **3. ANÁLISE INICIAL**"
   ]
  },
  {
   "cell_type": "code",
   "execution_count": 3,
   "metadata": {
    "colab": {
     "base_uri": "https://localhost:8080/",
     "height": 1000
    },
    "id": "IdZbAZY5eSHV",
    "outputId": "943787ca-1045-4e0f-c3b9-c92dea672997"
   },
   "outputs": [
    {
     "data": {
      "text/markdown": [
       "**-----   Formato do dataset:   -----**"
      ],
      "text/plain": [
       "<IPython.core.display.Markdown object>"
      ]
     },
     "metadata": {},
     "output_type": "display_data"
    },
    {
     "name": "stdout",
     "output_type": "stream",
     "text": [
      "(1816, 8)\n",
      "\n",
      "\n"
     ]
    },
    {
     "data": {
      "text/markdown": [
       "**-----   Informações do dataset:   -----**"
      ],
      "text/plain": [
       "<IPython.core.display.Markdown object>"
      ]
     },
     "metadata": {},
     "output_type": "display_data"
    },
    {
     "name": "stdout",
     "output_type": "stream",
     "text": [
      "<class 'pandas.core.frame.DataFrame'>\n",
      "RangeIndex: 1816 entries, 0 to 1815\n",
      "Data columns (total 8 columns):\n",
      " #   Column       Non-Null Count  Dtype  \n",
      "---  ------       --------------  -----  \n",
      " 0   Smartphone   1816 non-null   object \n",
      " 1   Brand        1816 non-null   object \n",
      " 2   Model        1816 non-null   object \n",
      " 3   RAM          1333 non-null   float64\n",
      " 4   Storage      1791 non-null   float64\n",
      " 5   Color        1816 non-null   object \n",
      " 6   Free         1816 non-null   object \n",
      " 7   Final Price  1816 non-null   float64\n",
      "dtypes: float64(3), object(5)\n",
      "memory usage: 113.6+ KB\n",
      "\n",
      "\n"
     ]
    },
    {
     "data": {
      "text/markdown": [
       "**-----   Estatísticas descritivas:   -----**"
      ],
      "text/plain": [
       "<IPython.core.display.Markdown object>"
      ]
     },
     "metadata": {},
     "output_type": "display_data"
    },
    {
     "data": {
      "text/html": [
       "<div>\n",
       "<style scoped>\n",
       "    .dataframe tbody tr th:only-of-type {\n",
       "        vertical-align: middle;\n",
       "    }\n",
       "\n",
       "    .dataframe tbody tr th {\n",
       "        vertical-align: top;\n",
       "    }\n",
       "\n",
       "    .dataframe thead th {\n",
       "        text-align: right;\n",
       "    }\n",
       "</style>\n",
       "<table border=\"1\" class=\"dataframe\">\n",
       "  <thead>\n",
       "    <tr style=\"text-align: right;\">\n",
       "      <th></th>\n",
       "      <th>RAM</th>\n",
       "      <th>Storage</th>\n",
       "      <th>Final Price</th>\n",
       "    </tr>\n",
       "  </thead>\n",
       "  <tbody>\n",
       "    <tr>\n",
       "      <th>count</th>\n",
       "      <td>1333.00000</td>\n",
       "      <td>1791.000000</td>\n",
       "      <td>1816.000000</td>\n",
       "    </tr>\n",
       "    <tr>\n",
       "      <th>mean</th>\n",
       "      <td>5.96099</td>\n",
       "      <td>162.652150</td>\n",
       "      <td>492.175573</td>\n",
       "    </tr>\n",
       "    <tr>\n",
       "      <th>std</th>\n",
       "      <td>2.66807</td>\n",
       "      <td>139.411605</td>\n",
       "      <td>398.606183</td>\n",
       "    </tr>\n",
       "    <tr>\n",
       "      <th>min</th>\n",
       "      <td>1.00000</td>\n",
       "      <td>2.000000</td>\n",
       "      <td>60.460000</td>\n",
       "    </tr>\n",
       "    <tr>\n",
       "      <th>25%</th>\n",
       "      <td>4.00000</td>\n",
       "      <td>64.000000</td>\n",
       "      <td>200.990000</td>\n",
       "    </tr>\n",
       "    <tr>\n",
       "      <th>50%</th>\n",
       "      <td>6.00000</td>\n",
       "      <td>128.000000</td>\n",
       "      <td>349.990000</td>\n",
       "    </tr>\n",
       "    <tr>\n",
       "      <th>75%</th>\n",
       "      <td>8.00000</td>\n",
       "      <td>256.000000</td>\n",
       "      <td>652.717500</td>\n",
       "    </tr>\n",
       "    <tr>\n",
       "      <th>max</th>\n",
       "      <td>12.00000</td>\n",
       "      <td>1000.000000</td>\n",
       "      <td>2271.280000</td>\n",
       "    </tr>\n",
       "  </tbody>\n",
       "</table>\n",
       "</div>"
      ],
      "text/plain": [
       "              RAM      Storage  Final Price\n",
       "count  1333.00000  1791.000000  1816.000000\n",
       "mean      5.96099   162.652150   492.175573\n",
       "std       2.66807   139.411605   398.606183\n",
       "min       1.00000     2.000000    60.460000\n",
       "25%       4.00000    64.000000   200.990000\n",
       "50%       6.00000   128.000000   349.990000\n",
       "75%       8.00000   256.000000   652.717500\n",
       "max      12.00000  1000.000000  2271.280000"
      ]
     },
     "metadata": {},
     "output_type": "display_data"
    },
    {
     "name": "stdout",
     "output_type": "stream",
     "text": [
      "\n",
      "\n"
     ]
    },
    {
     "data": {
      "text/markdown": [
       "**-----   Contagem de valores nulos:   -----**"
      ],
      "text/plain": [
       "<IPython.core.display.Markdown object>"
      ]
     },
     "metadata": {},
     "output_type": "display_data"
    },
    {
     "name": "stdout",
     "output_type": "stream",
     "text": [
      "Smartphone       0\n",
      "Brand            0\n",
      "Model            0\n",
      "RAM            483\n",
      "Storage         25\n",
      "Color            0\n",
      "Free             0\n",
      "Final Price      0\n",
      "dtype: int64\n",
      "\n",
      "\n"
     ]
    },
    {
     "data": {
      "text/markdown": [
       "**-----   Contagem de linhas duplicadas:   -----**"
      ],
      "text/plain": [
       "<IPython.core.display.Markdown object>"
      ]
     },
     "metadata": {},
     "output_type": "display_data"
    },
    {
     "name": "stdout",
     "output_type": "stream",
     "text": [
      "0\n",
      "\n",
      "\n"
     ]
    },
    {
     "data": {
      "text/markdown": [
       "**-----   Tipos de dados por coluna:   -----**"
      ],
      "text/plain": [
       "<IPython.core.display.Markdown object>"
      ]
     },
     "metadata": {},
     "output_type": "display_data"
    },
    {
     "name": "stdout",
     "output_type": "stream",
     "text": [
      "Smartphone      object\n",
      "Brand           object\n",
      "Model           object\n",
      "RAM            float64\n",
      "Storage        float64\n",
      "Color           object\n",
      "Free            object\n",
      "Final Price    float64\n",
      "dtype: object\n",
      "\n",
      "\n"
     ]
    }
   ],
   "source": [
    "# =====================================\n",
    "# 3. ANÁLISE INICIAL\n",
    "# =====================================\n",
    "\n",
    "display(Markdown(\"**-----   Formato do dataset:   -----**\"))\n",
    "print(df.shape)\n",
    "print(\"\\n\")\n",
    "\n",
    "display(Markdown(\"**-----   Informações do dataset:   -----**\"))\n",
    "df.info()\n",
    "print(\"\\n\")\n",
    "\n",
    "display(Markdown(\"**-----   Estatísticas descritivas:   -----**\"))\n",
    "display(df.describe())\n",
    "print(\"\\n\")\n",
    "\n",
    "display(Markdown(\"**-----   Contagem de valores nulos:   -----**\"))\n",
    "print(df.isnull().sum())\n",
    "print(\"\\n\")\n",
    "\n",
    "display(Markdown(\"**-----   Contagem de linhas duplicadas:   -----**\"))\n",
    "print(df.duplicated().sum())\n",
    "print(\"\\n\")\n",
    "\n",
    "display(Markdown(\"**-----   Tipos de dados por coluna:   -----**\"))\n",
    "print(df.dtypes)\n",
    "print(\"\\n\")"
   ]
  },
  {
   "cell_type": "code",
   "execution_count": 4,
   "metadata": {
    "id": "ebU_MFHihcBx"
   },
   "outputs": [],
   "source": [
    "### CATEGORIZAR OS PREÇOS EM INTERVALOS\n",
    "\n",
    "def categorizar_preco(preco):\n",
    "    if preco < 200:\n",
    "        return 'baixo'\n",
    "    elif preco < 500:\n",
    "        return 'médio'\n",
    "    elif preco < 950:\n",
    "        return 'alto'\n",
    "    else:\n",
    "        return 'muito alto'\n",
    "\n",
    "df[\"price_range\"] = df[\"Final Price\"].apply(categorizar_preco)"
   ]
  },
  {
   "cell_type": "code",
   "execution_count": 5,
   "metadata": {
    "colab": {
     "base_uri": "https://localhost:8080/",
     "height": 1000
    },
    "id": "Z_4q8KsCrgxp",
    "outputId": "8ab1f6d9-2baf-46c4-96ff-0daeeef4b965"
   },
   "outputs": [
    {
     "name": "stdout",
     "output_type": "stream",
     "text": [
      "\n",
      "Correlação entre variáveis numéricas e a variável alvo (price_range):\n"
     ]
    },
    {
     "data": {
      "text/html": [
       "<div>\n",
       "<style scoped>\n",
       "    .dataframe tbody tr th:only-of-type {\n",
       "        vertical-align: middle;\n",
       "    }\n",
       "\n",
       "    .dataframe tbody tr th {\n",
       "        vertical-align: top;\n",
       "    }\n",
       "\n",
       "    .dataframe thead th {\n",
       "        text-align: right;\n",
       "    }\n",
       "</style>\n",
       "<table border=\"1\" class=\"dataframe\">\n",
       "  <thead>\n",
       "    <tr style=\"text-align: right;\">\n",
       "      <th></th>\n",
       "      <th>price_range_num</th>\n",
       "    </tr>\n",
       "  </thead>\n",
       "  <tbody>\n",
       "    <tr>\n",
       "      <th>price_range_num</th>\n",
       "      <td>1.000000</td>\n",
       "    </tr>\n",
       "    <tr>\n",
       "      <th>RAM</th>\n",
       "      <td>0.707665</td>\n",
       "    </tr>\n",
       "    <tr>\n",
       "      <th>Storage</th>\n",
       "      <td>0.603023</td>\n",
       "    </tr>\n",
       "  </tbody>\n",
       "</table>\n",
       "</div>"
      ],
      "text/plain": [
       "                 price_range_num\n",
       "price_range_num         1.000000\n",
       "RAM                     0.707665\n",
       "Storage                 0.603023"
      ]
     },
     "metadata": {},
     "output_type": "display_data"
    },
    {
     "name": "stdout",
     "output_type": "stream",
     "text": [
      "\n",
      "\n"
     ]
    },
    {
     "data": {
      "image/png": "[encoded data removed]",
      "text/plain": [
       "<Figure size 1000x800 with 2 Axes>"
      ]
     },
     "metadata": {},
     "output_type": "display_data"
    },
    {
     "name": "stdout",
     "output_type": "stream",
     "text": [
      "\n",
      "\n"
     ]
    },
    {
     "data": {
      "image/png": "[encoded data removed]",
      "text/plain": [
       "<Figure size 600x400 with 1 Axes>"
      ]
     },
     "metadata": {},
     "output_type": "display_data"
    },
    {
     "data": {
      "image/png": "[encoded data removed]",
      "text/plain": [
       "<Figure size 600x400 with 1 Axes>"
      ]
     },
     "metadata": {},
     "output_type": "display_data"
    },
    {
     "name": "stdout",
     "output_type": "stream",
     "text": [
      "\n",
      "\n",
      "\n",
      "Teste de associação (Qui-quadrado) entre variáveis categóricas e price_range:\n",
      "Smartphone: p-valor = 0.4860 -> NÃO associado\n",
      "Brand: p-valor = 0.0000 -> ASSOCIADO\n",
      "Model: p-valor = 0.0000 -> ASSOCIADO\n",
      "Color: p-valor = 0.0000 -> ASSOCIADO\n",
      "Free: p-valor = 0.0025 -> ASSOCIADO\n"
     ]
    }
   ],
   "source": [
    "# =====================================\n",
    "# 3.1. ANÁLISE DA RELAÇÃO ENTRE VARIÁVEIS E O TARGET\n",
    "# =====================================\n",
    "\n",
    "categorical_vars = ['Smartphone', 'Brand', 'Model', 'Color', 'Free']\n",
    "numerical_vars = ['RAM', 'Storage']\n",
    "\n",
    "# --- Criar coluna numérica temporária para o target ---\n",
    "price_range_map = {\n",
    "    'baixo': 0,\n",
    "    'médio': 1,\n",
    "    'alto': 2,\n",
    "    'muito alto': 3\n",
    "}\n",
    "df['price_range_num'] = df['price_range'].map(price_range_map)\n",
    "\n",
    "# --- Relação entre variáveis numéricas e o target ---\n",
    "print(\"\\nCorrelação entre variáveis numéricas e a variável alvo (price_range):\")\n",
    "correlation_df = df[numerical_vars + ['price_range_num']].corr()\n",
    "display(correlation_df[['price_range_num']].sort_values(by='price_range_num', ascending=False))\n",
    "\n",
    "print(\"\\n\")\n",
    "\n",
    "plt.figure(figsize=(10, 8))\n",
    "sns.heatmap(correlation_df, annot=True, fmt=\".2f\", cmap=\"coolwarm\")\n",
    "plt.title(\"Mapa de Correlação\")\n",
    "plt.show()\n",
    "\n",
    "print(\"\\n\")\n",
    "\n",
    "# --- Boxplots para variáveis numéricas vs. target ---\n",
    "for col in numerical_vars:\n",
    "    plt.figure(figsize=(6, 4))\n",
    "    sns.boxplot(x=\"price_range\", y=col, data=df)\n",
    "    plt.title(f\"{col} vs. price_range\")\n",
    "    plt.tight_layout()\n",
    "    plt.show()\n",
    "\n",
    "print(\"\\n\")\n",
    "\n",
    "# --- Teste do Qui-quadrado para variáveis categóricas ---\n",
    "print(\"\\nTeste de associação (Qui-quadrado) entre variáveis categóricas e price_range:\")\n",
    "for col in categorical_vars:\n",
    "    table = pd.crosstab(df[col], df['price_range'])\n",
    "    chi2, p, dof, ex = chi2_contingency(table)\n",
    "    print(f\"{col}: p-valor = {p:.4f} {'-> ASSOCIADO' if p < 0.05 else '-> NÃO associado'}\")\n",
    "\n",
    "\n",
    "\n",
    "df.drop(columns='price_range_num', inplace=True)"
   ]
  },
  {
   "cell_type": "code",
   "execution_count": 6,
   "metadata": {
    "colab": {
     "base_uri": "https://localhost:8080/"
    },
    "id": "3jXw_lR3OzFh",
    "outputId": "c12b4ba4-f64b-458c-af42-f375bcd3ff60"
   },
   "outputs": [
    {
     "name": "stdout",
     "output_type": "stream",
     "text": [
      "\n",
      "Outliers na coluna 'RAM':\n",
      "  Categoria médio: 0 outliers\n",
      "  Categoria baixo: 9 outliers\n",
      "  Categoria alto: 104 outliers\n",
      "  Categoria muito alto: 0 outliers\n",
      "  Total de outliers na coluna 'RAM': 113\n",
      "\n",
      "Outliers na coluna 'Storage':\n",
      "  Categoria médio: 306 outliers\n",
      "  Categoria baixo: 7 outliers\n",
      "  Categoria alto: 0 outliers\n",
      "  Categoria muito alto: 0 outliers\n",
      "  Total de outliers na coluna 'Storage': 313\n"
     ]
    }
   ],
   "source": [
    "### VERIFICAR QUANTIDADE DE OUTLIERS NAS COLUNAS 'FC', 'PX_HEIGHT' E 'RAM' -> com base na visualização dos boxplots\n",
    "\n",
    "colunas = ['RAM', 'Storage']\n",
    "\n",
    "for coluna in colunas:\n",
    "    outliers_total = 0\n",
    "    print(f\"\\nOutliers na coluna '{coluna}':\")\n",
    "\n",
    "    for categoria in df['price_range'].unique():\n",
    "        grupo = df[df['price_range'] == categoria]\n",
    "        Q1 = grupo[coluna].quantile(0.25)\n",
    "        Q3 = grupo[coluna].quantile(0.75)\n",
    "        IQR = Q3 - Q1\n",
    "        lim_inf = Q1 - 3 * IQR\n",
    "        lim_sup = Q3 + 3 * IQR\n",
    "\n",
    "        outliers = grupo[(grupo[coluna] < lim_inf) | (grupo[coluna] > lim_sup)]\n",
    "        print(f\"  Categoria {categoria}: {len(outliers)} outliers\")\n",
    "        outliers_total += len(outliers)\n",
    "\n",
    "    print(f\"  Total de outliers na coluna '{coluna}': {outliers_total}\")"
   ]
  },
  {
   "cell_type": "code",
   "execution_count": 7,
   "metadata": {
    "colab": {
     "base_uri": "https://localhost:8080/"
    },
    "id": "PkshFBIPQv5q",
    "outputId": "8ac199a1-a6ac-4eb1-ebf5-5b4f5d97e0ac"
   },
   "outputs": [
    {
     "name": "stdout",
     "output_type": "stream",
     "text": [
      "Total de linhas duplicadas: 0\n"
     ]
    }
   ],
   "source": [
    "### VERIFICAR SE EXISTEM LINHAS DUPLICADAS\n",
    "\n",
    "duplicados = df.duplicated()\n",
    "print(f\"Total de linhas duplicadas: {duplicados.sum()}\")     ### o valor vai ser 0 devido à coluna 'Smartphone'. sem essa coluna o número de duplicados é 881"
   ]
  },
  {
   "cell_type": "code",
   "execution_count": 8,
   "metadata": {},
   "outputs": [
    {
     "data": {
      "text/plain": [
       "0"
      ]
     },
     "execution_count": 8,
     "metadata": {},
     "output_type": "execute_result"
    }
   ],
   "source": [
    "### VERIFICAR SE A COLUNA 'Color' TEM NULOS\n",
    "\n",
    "df['Color'].isnull().sum()"
   ]
  },
  {
   "cell_type": "markdown",
   "metadata": {
    "id": "Vw34_-Wrb1Cp"
   },
   "source": [
    "## **4. TRATAMENTO DOS DADOS**"
   ]
  },
  {
   "cell_type": "code",
   "execution_count": 9,
   "metadata": {
    "colab": {
     "base_uri": "https://localhost:8080/"
    },
    "id": "656BVJhx3s2D",
    "outputId": "6de1b279-6868-474a-da48-804fcea7452e"
   },
   "outputs": [
    {
     "name": "stdout",
     "output_type": "stream",
     "text": [
      "Valores nulos restantes em RAM: 0\n",
      "Valores nulos restantes em Storage: 0\n"
     ]
    }
   ],
   "source": [
    "# =====================================\n",
    "# 4. TRATAMENTO DOS DADOS\n",
    "# =====================================\n",
    "\n",
    "### DROP DE COLUNAS IRRELEVANTES\n",
    "\n",
    "df = df.drop(columns=[\"Final Price\"])\n",
    "df = df.drop(columns=[\"Smartphone\"])\n",
    "df = df.drop(columns=[\"Free\"])\n",
    "\n",
    "\n",
    "\n",
    "\n",
    "\n",
    "### TRATAMENTO DE NAN\n",
    "\n",
    "apple_ram_map = {\n",
    "    'iPhone 6s': 2,\n",
    "    'iPhone 7': 2,\n",
    "    'iPhone 8': 2,\n",
    "    'iPhone SE': 3,\n",
    "    'iPhone X': 3,\n",
    "    'iPhone XR': 3,\n",
    "    'iPhone XS': 4,\n",
    "    'iPhone 11': 4,\n",
    "    '11 Pro': 4,\n",
    "    'iPhone 12': 4,\n",
    "    'iPhone 13': 4,\n",
    "    'iPhone 14': 6\n",
    "}\n",
    "\n",
    "\n",
    "for model, ram in apple_ram_map.items():\n",
    "    mask = (df['Brand'] == 'Apple') & (df['Model'] == model) & (df['RAM'].isnull())\n",
    "    df.loc[mask, 'RAM'] = ram\n",
    "\n",
    "non_apple_median = df.loc[(df['Brand'] != 'Apple'), 'RAM'].median()\n",
    "df.loc[(df['Brand'] != 'Apple') & (df['RAM'].isnull()), 'RAM'] = non_apple_median\n",
    "print(f\"Valores nulos restantes em RAM: {df['RAM'].isnull().sum()}\")\n",
    "\n",
    "\n",
    "df = df.dropna(subset=['Storage']).reset_index(drop=True)\n",
    "print(f\"Valores nulos restantes em Storage: {df['Storage'].isnull().sum()}\")\n",
    "\n",
    "\n",
    "\n",
    "\n",
    "\n",
    "### DROP DE OUTLIERS\n",
    "\n",
    "colunas_outliers = ['RAM', 'Storage']\n",
    "outlier_indices = set()\n",
    "\n",
    "for coluna in colunas_outliers:\n",
    "    for categoria in df['price_range'].unique():\n",
    "        grupo = df[df['price_range'] == categoria]\n",
    "        Q1 = grupo[coluna].quantile(0.25)\n",
    "        Q3 = grupo[coluna].quantile(0.75)\n",
    "        IQR = Q3 - Q1\n",
    "        lim_inf = Q1 - 3 * IQR\n",
    "        lim_sup = Q3 + 3 * IQR\n",
    "\n",
    "        outliers = grupo[(grupo[coluna] < lim_inf) | (grupo[coluna] > lim_sup)]\n",
    "        outlier_indices.update(outliers.index)\n",
    "\n",
    "df.drop(index=outlier_indices, inplace=True)\n"
   ]
  },
  {
   "cell_type": "code",
   "execution_count": 10,
   "metadata": {
    "colab": {
     "base_uri": "https://localhost:8080/"
    },
    "id": "zDeIOwENXoSP",
    "outputId": "c91f1ece-544d-4700-9db0-d1d610faa887"
   },
   "outputs": [
    {
     "name": "stdout",
     "output_type": "stream",
     "text": [
      "Total de linhas duplicadas: 333\n"
     ]
    }
   ],
   "source": [
    "### VERIFICAR SE EXISTEM LINHAS DUPLICADAS -> agora sem a coluna 'Smartphone'\n",
    "\n",
    "duplicados = df.duplicated()\n",
    "print(f\"Total de linhas duplicadas: {duplicados.sum()}\")"
   ]
  },
  {
   "cell_type": "code",
   "execution_count": 11,
   "metadata": {
    "id": "6N8DDEInWskU"
   },
   "outputs": [],
   "source": [
    "### REMOVER LINHAS DUPLICADAS\n",
    "\n",
    "df = df.drop_duplicates().reset_index(drop=True)"
   ]
  },
  {
   "cell_type": "code",
   "execution_count": 12,
   "metadata": {
    "colab": {
     "base_uri": "https://localhost:8080/"
    },
    "id": "gEl09XXnTGya",
    "outputId": "256593b1-8d2c-4aae-bbbf-74726d7d36fe"
   },
   "outputs": [
    {
     "name": "stdout",
     "output_type": "stream",
     "text": [
      "\n",
      "Formato do dataset após o tratamento de dados:\n"
     ]
    },
    {
     "data": {
      "text/plain": [
       "(1145, 6)"
      ]
     },
     "execution_count": 12,
     "metadata": {},
     "output_type": "execute_result"
    }
   ],
   "source": [
    "### VERIFICAR O FORMATO DO DATASET APÓS O TRATAMENTO DE DADOS\n",
    "\n",
    "print(\"\\nFormato do dataset após o tratamento de dados:\")\n",
    "df.shape"
   ]
  },
  {
   "cell_type": "markdown",
   "metadata": {
    "id": "jFxfyx-piFFV"
   },
   "source": [
    "## **5. PREPROCESSING**"
   ]
  },
  {
   "cell_type": "code",
   "execution_count": 13,
   "metadata": {
    "id": "jhM0vKjX2Feo"
   },
   "outputs": [
    {
     "name": "stdout",
     "output_type": "stream",
     "text": [
      "Train shape: (916, 370) (916,)\n",
      "Test shape: (114, 370) (114,)\n",
      "Validate shape: (115, 370) (115,)\n",
      "Encoder salvo no S3: s3://sagemaker-studio-ab58uyhx74k/projeto_ccba_data/encoder/encoder_ccba.pkl\n",
      "Label Encoder salvo no S3: s3://sagemaker-studio-ab58uyhx74k/projeto_ccba_data/encoder/label_encoder_ccba.pkl\n"
     ]
    }
   ],
   "source": [
    "# Parâmetros\n",
    "# 'bucket'  e 'prefix' definidos no ponto 2. Upload do dataset \n",
    "s3_output_location = f\"s3://{bucket}/{prefix}/output/\"\n",
    "\n",
    "# 1. Mover a coluna target para a primeira posição\n",
    "cols = df.columns.tolist()\n",
    "cols = cols[-1:] + cols[:-1]  # move 'price_range' para o início\n",
    "df = df[cols]\n",
    "\n",
    "# 2. Dividir em train, test e validate com stratify\n",
    "train, test_and_validate = train_test_split(\n",
    "    df, test_size=0.2, random_state=42, stratify=df['price_range']\n",
    ")\n",
    "\n",
    "test, validate = train_test_split(\n",
    "    test_and_validate, test_size=0.5, random_state=42, stratify=test_and_validate['price_range']\n",
    ")\n",
    "\n",
    "# 3. Codificar o target (LabelEncoder) para cada conjunto\n",
    "le_target = LabelEncoder()\n",
    "\n",
    "y_train = le_target.fit_transform(train['price_range'])\n",
    "y_test = le_target.transform(test['price_range'])\n",
    "y_validate = le_target.transform(validate['price_range'])\n",
    "\n",
    "# 4. Separar features e aplicar encoding com ColumnTransformer\n",
    "categorical_features = ['Brand', 'Model', 'Color']\n",
    "numerical_features = ['RAM', 'Storage']\n",
    "\n",
    "# Define o pipeline de transformação\n",
    "preprocessor = ColumnTransformer(\n",
    "    transformers=[\n",
    "        ('cat', OneHotEncoder(handle_unknown='ignore', sparse_output=False), categorical_features),\n",
    "        ('num', StandardScaler(), numerical_features)\n",
    "    ]\n",
    ")\n",
    "\n",
    "# Ajustar apenas nos dados de treino\n",
    "X_train = train.drop(columns='price_range')\n",
    "X_test = test.drop(columns='price_range')\n",
    "X_validate = validate.drop(columns='price_range')\n",
    "\n",
    "X_train_processed = preprocessor.fit_transform(X_train)\n",
    "X_test_processed = preprocessor.transform(X_test)\n",
    "X_validate_processed = preprocessor.transform(X_validate)\n",
    "\n",
    "# Obter os nomes das colunas codificadas\n",
    "encoded_feature_names = (\n",
    "    preprocessor.named_transformers_['cat']\n",
    "    .get_feature_names_out(categorical_features)\n",
    "    .tolist() + numerical_features\n",
    ")\n",
    "\n",
    "# Converter para DataFrames\n",
    "X_train = pd.DataFrame(X_train_processed, columns=encoded_feature_names)\n",
    "X_test = pd.DataFrame(X_test_processed, columns=encoded_feature_names)\n",
    "X_validate = pd.DataFrame(X_validate_processed, columns=encoded_feature_names)\n",
    "\n",
    "# Salvar encoder (ColumnTransformer) e LabelEncoder\n",
    "joblib.dump(preprocessor, 'encoder_ccba.pkl')\n",
    "joblib.dump(le_target, 'label_encoder_ccba.pkl')\n",
    "\n",
    "# Upload do encoder para o S3\n",
    "s3 = boto3.client('s3')\n",
    "s3.upload_file('encoder_ccba.pkl', bucket, prefix + '/encoder/encoder_ccba.pkl')\n",
    "s3.upload_file('label_encoder_ccba.pkl', bucket, prefix + '/encoder/label_encoder_ccba.pkl')\n",
    "\n",
    "# Concatenar y com X para upload\n",
    "train_to_upload = pd.concat([pd.Series(y_train, name='price_range'), X_train], axis=1)\n",
    "test_to_upload = pd.concat([pd.Series(y_test, name='price_range'), X_test], axis=1)\n",
    "validate_to_upload = pd.concat([pd.Series(y_validate, name='price_range'), X_validate], axis=1)\n",
    "\n",
    "# Função de upload para S3\n",
    "def upload_s3_csv(df, bucket, prefix, filename):\n",
    "    csv_buffer = StringIO()\n",
    "    df.to_csv(csv_buffer, index=False)\n",
    "    s3_resource = boto3.resource('s3')\n",
    "    s3_resource.Object(bucket, f\"{prefix}/{filename}\").put(Body=csv_buffer.getvalue())\n",
    "\n",
    "# Upload dos dados para S3\n",
    "upload_s3_csv(train_to_upload, bucket, prefix + '/train', 'train.csv')\n",
    "upload_s3_csv(test_to_upload, bucket, prefix + '/test', 'test.csv')\n",
    "upload_s3_csv(validate_to_upload, bucket, prefix + '/validate', 'validate.csv')\n",
    "\n",
    "print('Train shape:', X_train.shape, y_train.shape)\n",
    "print('Test shape:', X_test.shape, y_test.shape)\n",
    "print('Validate shape:', X_validate.shape, y_validate.shape)\n",
    "print(f'Encoder salvo no S3: s3://{bucket}/{prefix}/encoder/encoder_ccba.pkl')\n",
    "print(f'Label Encoder salvo no S3: s3://{bucket}/{prefix}/encoder/label_encoder_ccba.pkl')"
   ]
  },
  {
   "cell_type": "markdown",
   "metadata": {
    "id": "JCULkAic7YdP"
   },
   "source": [
    "#### **Guardar o scaler para reutilizar mais tarde**\n",
    "\n",
    "**Porquê?**\n",
    "Porque se no futuro quisermos prever com dados novos, precisamos usar a mesma média e desvio padrão que usamos no treino. Senão, os valores transformados vão ficar incorretos."
   ]
  },
  {
   "cell_type": "markdown",
   "metadata": {
    "id": "LoMJ6Vp0l8hO"
   },
   "source": [
    "## **6. MODELING**"
   ]
  },
  {
   "cell_type": "code",
   "execution_count": 14,
   "metadata": {
    "id": "mfdUyblC8orP"
   },
   "outputs": [
    {
     "data": {
      "text/html": [
       "<pre style=\"white-space:pre;overflow-x:auto;line-height:normal;font-family:Menlo,'DejaVu Sans Mono',consolas,'Courier New',monospace\"><span style=\"color: #7fbfbf; text-decoration-color: #7fbfbf\">[06/12/25 15:35:27] </span><span style=\"color: #0069ff; text-decoration-color: #0069ff; font-weight: bold\">INFO    </span> Defaulting to only available Python version: py3                     <a href=\"file:///opt/conda/lib/python3.12/site-packages/sagemaker/image_uris.py\" target=\"_blank\"><span style=\"color: #7f7f7f; text-decoration-color: #7f7f7f\">image_uris.py</span></a><span style=\"color: #7f7f7f; text-decoration-color: #7f7f7f\">:</span><a href=\"file:///opt/conda/lib/python3.12/site-packages/sagemaker/image_uris.py#610\" target=\"_blank\"><span style=\"color: #7f7f7f; text-decoration-color: #7f7f7f\">610</span></a>\n",
       "</pre>\n"
      ],
      "text/plain": [
       "\u001b[2;36m[06/12/25 15:35:27]\u001b[0m\u001b[2;36m \u001b[0m\u001b[1;38;2;0;105;255mINFO    \u001b[0m Defaulting to only available Python version: py3                     \u001b]8;id=735954;file:///opt/conda/lib/python3.12/site-packages/sagemaker/image_uris.py\u001b\\\u001b[2mimage_uris.py\u001b[0m\u001b]8;;\u001b\\\u001b[2m:\u001b[0m\u001b]8;id=771796;file:///opt/conda/lib/python3.12/site-packages/sagemaker/image_uris.py#610\u001b\\\u001b[2m610\u001b[0m\u001b]8;;\u001b\\\n"
      ]
     },
     "metadata": {},
     "output_type": "display_data"
    },
    {
     "data": {
      "text/html": [
       "<pre style=\"white-space:pre;overflow-x:auto;line-height:normal;font-family:Menlo,'DejaVu Sans Mono',consolas,'Courier New',monospace\"><span style=\"color: #7fbfbf; text-decoration-color: #7fbfbf\">                    </span><span style=\"color: #0069ff; text-decoration-color: #0069ff; font-weight: bold\">INFO    </span> Defaulting to only supported image scope: cpu.                       <a href=\"file:///opt/conda/lib/python3.12/site-packages/sagemaker/image_uris.py\" target=\"_blank\"><span style=\"color: #7f7f7f; text-decoration-color: #7f7f7f\">image_uris.py</span></a><span style=\"color: #7f7f7f; text-decoration-color: #7f7f7f\">:</span><a href=\"file:///opt/conda/lib/python3.12/site-packages/sagemaker/image_uris.py#534\" target=\"_blank\"><span style=\"color: #7f7f7f; text-decoration-color: #7f7f7f\">534</span></a>\n",
       "</pre>\n"
      ],
      "text/plain": [
       "\u001b[2;36m                   \u001b[0m\u001b[2;36m \u001b[0m\u001b[1;38;2;0;105;255mINFO    \u001b[0m Defaulting to only supported image scope: cpu.                       \u001b]8;id=21863;file:///opt/conda/lib/python3.12/site-packages/sagemaker/image_uris.py\u001b\\\u001b[2mimage_uris.py\u001b[0m\u001b]8;;\u001b\\\u001b[2m:\u001b[0m\u001b]8;id=751342;file:///opt/conda/lib/python3.12/site-packages/sagemaker/image_uris.py#534\u001b\\\u001b[2m534\u001b[0m\u001b]8;;\u001b\\\n"
      ]
     },
     "metadata": {},
     "output_type": "display_data"
    },
    {
     "data": {
      "text/html": [
       "<pre style=\"white-space:pre;overflow-x:auto;line-height:normal;font-family:Menlo,'DejaVu Sans Mono',consolas,'Courier New',monospace\"><span style=\"color: #7fbfbf; text-decoration-color: #7fbfbf\">                    </span><span style=\"color: #0069ff; text-decoration-color: #0069ff; font-weight: bold\">INFO    </span> SageMaker Python SDK will collect telemetry to help us better  <a href=\"file:///opt/conda/lib/python3.12/site-packages/sagemaker/telemetry/telemetry_logging.py\" target=\"_blank\"><span style=\"color: #7f7f7f; text-decoration-color: #7f7f7f\">telemetry_logging.py</span></a><span style=\"color: #7f7f7f; text-decoration-color: #7f7f7f\">:</span><a href=\"file:///opt/conda/lib/python3.12/site-packages/sagemaker/telemetry/telemetry_logging.py#91\" target=\"_blank\"><span style=\"color: #7f7f7f; text-decoration-color: #7f7f7f\">91</span></a>\n",
       "<span style=\"color: #7fbfbf; text-decoration-color: #7fbfbf\">                    </span>         understand our user's needs, diagnose issues, and deliver      <span style=\"color: #7f7f7f; text-decoration-color: #7f7f7f\">                       </span>\n",
       "<span style=\"color: #7fbfbf; text-decoration-color: #7fbfbf\">                    </span>         additional features.                                           <span style=\"color: #7f7f7f; text-decoration-color: #7f7f7f\">                       </span>\n",
       "<span style=\"color: #7fbfbf; text-decoration-color: #7fbfbf\">                    </span>         To opt out of telemetry, please disable via TelemetryOptOut    <span style=\"color: #7f7f7f; text-decoration-color: #7f7f7f\">                       </span>\n",
       "<span style=\"color: #7fbfbf; text-decoration-color: #7fbfbf\">                    </span>         parameter in SDK defaults config. For more information, refer  <span style=\"color: #7f7f7f; text-decoration-color: #7f7f7f\">                       </span>\n",
       "<span style=\"color: #7fbfbf; text-decoration-color: #7fbfbf\">                    </span>         to                                                             <span style=\"color: #7f7f7f; text-decoration-color: #7f7f7f\">                       </span>\n",
       "<span style=\"color: #7fbfbf; text-decoration-color: #7fbfbf\">                    </span>         <span style=\"color: #0069ff; text-decoration-color: #0069ff; text-decoration: underline\">https://sagemaker.readthedocs.io/en/stable/overview.html#confi</span> <span style=\"color: #7f7f7f; text-decoration-color: #7f7f7f\">                       </span>\n",
       "<span style=\"color: #7fbfbf; text-decoration-color: #7fbfbf\">                    </span>         <span style=\"color: #0069ff; text-decoration-color: #0069ff; text-decoration: underline\">guring-and-using-defaults-with-the-sagemaker-python-sdk.</span>       <span style=\"color: #7f7f7f; text-decoration-color: #7f7f7f\">                       </span>\n",
       "</pre>\n"
      ],
      "text/plain": [
       "\u001b[2;36m                   \u001b[0m\u001b[2;36m \u001b[0m\u001b[1;38;2;0;105;255mINFO    \u001b[0m SageMaker Python SDK will collect telemetry to help us better  \u001b]8;id=562609;file:///opt/conda/lib/python3.12/site-packages/sagemaker/telemetry/telemetry_logging.py\u001b\\\u001b[2mtelemetry_logging.py\u001b[0m\u001b]8;;\u001b\\\u001b[2m:\u001b[0m\u001b]8;id=261190;file:///opt/conda/lib/python3.12/site-packages/sagemaker/telemetry/telemetry_logging.py#91\u001b\\\u001b[2m91\u001b[0m\u001b]8;;\u001b\\\n",
       "\u001b[2;36m                    \u001b[0m         understand our user's needs, diagnose issues, and deliver      \u001b[2m                       \u001b[0m\n",
       "\u001b[2;36m                    \u001b[0m         additional features.                                           \u001b[2m                       \u001b[0m\n",
       "\u001b[2;36m                    \u001b[0m         To opt out of telemetry, please disable via TelemetryOptOut    \u001b[2m                       \u001b[0m\n",
       "\u001b[2;36m                    \u001b[0m         parameter in SDK defaults config. For more information, refer  \u001b[2m                       \u001b[0m\n",
       "\u001b[2;36m                    \u001b[0m         to                                                             \u001b[2m                       \u001b[0m\n",
       "\u001b[2;36m                    \u001b[0m         \u001b[4;38;2;0;105;255mhttps://sagemaker.readthedocs.io/en/stable/overview.html#confi\u001b[0m \u001b[2m                       \u001b[0m\n",
       "\u001b[2;36m                    \u001b[0m         \u001b[4;38;2;0;105;255mguring-and-using-defaults-with-the-sagemaker-python-sdk.\u001b[0m       \u001b[2m                       \u001b[0m\n"
      ]
     },
     "metadata": {},
     "output_type": "display_data"
    },
    {
     "data": {
      "text/html": [
       "<pre style=\"white-space:pre;overflow-x:auto;line-height:normal;font-family:Menlo,'DejaVu Sans Mono',consolas,'Courier New',monospace\"><span style=\"color: #7fbfbf; text-decoration-color: #7fbfbf\">                    </span><span style=\"color: #0069ff; text-decoration-color: #0069ff; font-weight: bold\">INFO    </span> Creating training-job with name:                                       <a href=\"file:///opt/conda/lib/python3.12/site-packages/sagemaker/session.py\" target=\"_blank\"><span style=\"color: #7f7f7f; text-decoration-color: #7f7f7f\">session.py</span></a><span style=\"color: #7f7f7f; text-decoration-color: #7f7f7f\">:</span><a href=\"file:///opt/conda/lib/python3.12/site-packages/sagemaker/session.py#1042\" target=\"_blank\"><span style=\"color: #7f7f7f; text-decoration-color: #7f7f7f\">1042</span></a>\n",
       "<span style=\"color: #7fbfbf; text-decoration-color: #7fbfbf\">                    </span>         sagemaker-xgboost-<span style=\"color: #008080; text-decoration-color: #008080; font-weight: bold\">2025</span>-06-12-15-35-27-078                              <span style=\"color: #7f7f7f; text-decoration-color: #7f7f7f\">               </span>\n",
       "</pre>\n"
      ],
      "text/plain": [
       "\u001b[2;36m                   \u001b[0m\u001b[2;36m \u001b[0m\u001b[1;38;2;0;105;255mINFO    \u001b[0m Creating training-job with name:                                       \u001b]8;id=755161;file:///opt/conda/lib/python3.12/site-packages/sagemaker/session.py\u001b\\\u001b[2msession.py\u001b[0m\u001b]8;;\u001b\\\u001b[2m:\u001b[0m\u001b]8;id=623454;file:///opt/conda/lib/python3.12/site-packages/sagemaker/session.py#1042\u001b\\\u001b[2m1042\u001b[0m\u001b]8;;\u001b\\\n",
       "\u001b[2;36m                    \u001b[0m         sagemaker-xgboost-\u001b[1;36m2025\u001b[0m-06-12-15-35-27-078                              \u001b[2m               \u001b[0m\n"
      ]
     },
     "metadata": {},
     "output_type": "display_data"
    },
    {
     "name": "stdout",
     "output_type": "stream",
     "text": [
      "2025-06-12 15:35:31 Starting - Starting the training job...\n",
      "2025-06-12 15:35:45 Starting - Preparing the instances for training...\n",
      "2025-06-12 15:36:31 Downloading - Downloading the training image......\n",
      "2025-06-12 15:37:28 Training - Training image download completed. Training in progress.\n",
      "2025-06-12 15:37:28 Uploading - Uploading generated training model\u001b[34m[2025-06-12 15:37:22.396 ip-10-0-209-36.ec2.internal:7 INFO utils.py:27] RULE_JOB_STOP_SIGNAL_FILENAME: None\u001b[0m\n",
      "\u001b[34mINFO:sagemaker-containers:Imported framework sagemaker_xgboost_container.training\u001b[0m\n",
      "\u001b[34mINFO:sagemaker-containers:Failed to parse hyperparameter eval_metric value mlogloss to Json.\u001b[0m\n",
      "\u001b[34mReturning the value itself\u001b[0m\n",
      "\u001b[34mINFO:sagemaker-containers:Failed to parse hyperparameter objective value multi:softmax to Json.\u001b[0m\n",
      "\u001b[34mReturning the value itself\u001b[0m\n",
      "\u001b[34mINFO:sagemaker-containers:No GPUs detected (normal if no gpus installed)\u001b[0m\n",
      "\u001b[34mINFO:sagemaker_xgboost_container.training:Running XGBoost Sagemaker in algorithm mode\u001b[0m\n",
      "\u001b[34mINFO:root:Determined delimiter of CSV input is ','\u001b[0m\n",
      "\u001b[34mINFO:root:Determined delimiter of CSV input is ','\u001b[0m\n",
      "\u001b[34mINFO:root:Determined delimiter of CSV input is ','\u001b[0m\n",
      "\u001b[34mINFO:root:Determined delimiter of CSV input is ','\u001b[0m\n",
      "\u001b[34mINFO:root:Single node training.\u001b[0m\n",
      "\u001b[34m[15:37:22] 917x370 matrix with 339290 entries loaded from /opt/ml/input/data/train?format=csv&label_column=0&delimiter=,\u001b[0m\n",
      "\u001b[34m[15:37:22] 116x370 matrix with 42920 entries loaded from /opt/ml/input/data/validation?format=csv&label_column=0&delimiter=,\u001b[0m\n",
      "\u001b[34m[2025-06-12 15:37:22.498 ip-10-0-209-36.ec2.internal:7 INFO json_config.py:91] Creating hook from json_config at /opt/ml/input/config/debughookconfig.json.\u001b[0m\n",
      "\u001b[34m[2025-06-12 15:37:22.499 ip-10-0-209-36.ec2.internal:7 INFO hook.py:201] tensorboard_dir has not been set for the hook. SMDebug will not be exporting tensorboard summaries.\u001b[0m\n",
      "\u001b[34m[2025-06-12 15:37:22.499 ip-10-0-209-36.ec2.internal:7 INFO profiler_config_parser.py:102] User has disabled profiler.\u001b[0m\n",
      "\u001b[34m[2025-06-12 15:37:22.500 ip-10-0-209-36.ec2.internal:7 INFO hook.py:255] Saving to /opt/ml/output/tensors\u001b[0m\n",
      "\u001b[34m[2025-06-12 15:37:22.500 ip-10-0-209-36.ec2.internal:7 INFO state_store.py:77] The checkpoint config file /opt/ml/input/config/checkpointconfig.json does not exist.\u001b[0m\n",
      "\u001b[34mINFO:root:Debug hook created from config\u001b[0m\n",
      "\u001b[34mINFO:root:Train matrix has 917 rows\u001b[0m\n",
      "\u001b[34mINFO:root:Validation matrix has 116 rows\u001b[0m\n",
      "\u001b[34m[0]#011train-mlogloss:1.29790#011validation-mlogloss:1.30119\u001b[0m\n",
      "\u001b[34m[2025-06-12 15:37:22.526 ip-10-0-209-36.ec2.internal:7 INFO hook.py:423] Monitoring the collections: metrics\u001b[0m\n",
      "\u001b[34m[2025-06-12 15:37:22.530 ip-10-0-209-36.ec2.internal:7 INFO hook.py:486] Hook is writing from the hook with pid: 7\u001b[0m\n",
      "\u001b[34m[1]#011train-mlogloss:1.22365#011validation-mlogloss:1.23463\u001b[0m\n",
      "\u001b[34m[2]#011train-mlogloss:1.16164#011validation-mlogloss:1.18072\u001b[0m\n",
      "\u001b[34m[3]#011train-mlogloss:1.10639#011validation-mlogloss:1.12869\u001b[0m\n",
      "\u001b[34m[4]#011train-mlogloss:1.05940#011validation-mlogloss:1.08758\u001b[0m\n",
      "\u001b[34m[5]#011train-mlogloss:1.01806#011validation-mlogloss:1.04967\u001b[0m\n",
      "\u001b[34m[6]#011train-mlogloss:0.98271#011validation-mlogloss:1.01770\u001b[0m\n",
      "\u001b[34m[7]#011train-mlogloss:0.95104#011validation-mlogloss:0.98847\u001b[0m\n",
      "\u001b[34m[8]#011train-mlogloss:0.92220#011validation-mlogloss:0.96250\u001b[0m\n",
      "\u001b[34m[9]#011train-mlogloss:0.89573#011validation-mlogloss:0.94030\u001b[0m\n",
      "\u001b[34m[10]#011train-mlogloss:0.87242#011validation-mlogloss:0.92245\u001b[0m\n",
      "\u001b[34m[11]#011train-mlogloss:0.85113#011validation-mlogloss:0.90403\u001b[0m\n",
      "\u001b[34m[12]#011train-mlogloss:0.83264#011validation-mlogloss:0.88802\u001b[0m\n",
      "\u001b[34m[13]#011train-mlogloss:0.81585#011validation-mlogloss:0.87143\u001b[0m\n",
      "\u001b[34m[14]#011train-mlogloss:0.80000#011validation-mlogloss:0.85713\u001b[0m\n",
      "\u001b[34m[15]#011train-mlogloss:0.78619#011validation-mlogloss:0.84538\u001b[0m\n",
      "\u001b[34m[16]#011train-mlogloss:0.77305#011validation-mlogloss:0.83413\u001b[0m\n",
      "\u001b[34m[17]#011train-mlogloss:0.76149#011validation-mlogloss:0.82534\u001b[0m\n",
      "\u001b[34m[18]#011train-mlogloss:0.75147#011validation-mlogloss:0.81673\u001b[0m\n",
      "\u001b[34m[19]#011train-mlogloss:0.74209#011validation-mlogloss:0.80958\u001b[0m\n",
      "\u001b[34m[20]#011train-mlogloss:0.73221#011validation-mlogloss:0.79969\u001b[0m\n",
      "\u001b[34m[21]#011train-mlogloss:0.72381#011validation-mlogloss:0.78979\u001b[0m\n",
      "\u001b[34m[22]#011train-mlogloss:0.71549#011validation-mlogloss:0.77996\u001b[0m\n",
      "\u001b[34m[23]#011train-mlogloss:0.70894#011validation-mlogloss:0.77461\u001b[0m\n",
      "\u001b[34m[24]#011train-mlogloss:0.70130#011validation-mlogloss:0.76439\u001b[0m\n",
      "\u001b[34m[25]#011train-mlogloss:0.69513#011validation-mlogloss:0.75882\u001b[0m\n",
      "\u001b[34m[26]#011train-mlogloss:0.68932#011validation-mlogloss:0.75522\u001b[0m\n",
      "\u001b[34m[27]#011train-mlogloss:0.68325#011validation-mlogloss:0.74922\u001b[0m\n",
      "\u001b[34m[28]#011train-mlogloss:0.67769#011validation-mlogloss:0.74367\u001b[0m\n",
      "\u001b[34m[29]#011train-mlogloss:0.67265#011validation-mlogloss:0.73749\u001b[0m\n",
      "\u001b[34m[30]#011train-mlogloss:0.66770#011validation-mlogloss:0.73166\u001b[0m\n",
      "\u001b[34m[31]#011train-mlogloss:0.66345#011validation-mlogloss:0.72742\u001b[0m\n",
      "\u001b[34m[32]#011train-mlogloss:0.65881#011validation-mlogloss:0.72203\u001b[0m\n",
      "\u001b[34m[33]#011train-mlogloss:0.65467#011validation-mlogloss:0.71748\u001b[0m\n",
      "\u001b[34m[34]#011train-mlogloss:0.65104#011validation-mlogloss:0.71327\u001b[0m\n",
      "\u001b[34m[35]#011train-mlogloss:0.64689#011validation-mlogloss:0.70884\u001b[0m\n",
      "\u001b[34m[36]#011train-mlogloss:0.64341#011validation-mlogloss:0.70364\u001b[0m\n",
      "\u001b[34m[37]#011train-mlogloss:0.63954#011validation-mlogloss:0.69889\u001b[0m\n",
      "\u001b[34m[38]#011train-mlogloss:0.63607#011validation-mlogloss:0.69413\u001b[0m\n",
      "\u001b[34m[39]#011train-mlogloss:0.63318#011validation-mlogloss:0.69070\u001b[0m\n",
      "\u001b[34m[40]#011train-mlogloss:0.63036#011validation-mlogloss:0.68905\u001b[0m\n",
      "\u001b[34m[41]#011train-mlogloss:0.62723#011validation-mlogloss:0.68474\u001b[0m\n",
      "\u001b[34m[42]#011train-mlogloss:0.62405#011validation-mlogloss:0.68231\u001b[0m\n",
      "\u001b[34m[43]#011train-mlogloss:0.62142#011validation-mlogloss:0.68014\u001b[0m\n",
      "\u001b[34m[44]#011train-mlogloss:0.61911#011validation-mlogloss:0.67744\u001b[0m\n",
      "\u001b[34m[45]#011train-mlogloss:0.61605#011validation-mlogloss:0.67479\u001b[0m\n",
      "\u001b[34m[46]#011train-mlogloss:0.61380#011validation-mlogloss:0.67248\u001b[0m\n",
      "\u001b[34m[47]#011train-mlogloss:0.61205#011validation-mlogloss:0.67163\u001b[0m\n",
      "\u001b[34m[48]#011train-mlogloss:0.61011#011validation-mlogloss:0.66957\u001b[0m\n",
      "\u001b[34m[49]#011train-mlogloss:0.60829#011validation-mlogloss:0.66864\u001b[0m\n",
      "\u001b[34m[50]#011train-mlogloss:0.60644#011validation-mlogloss:0.66633\u001b[0m\n",
      "\u001b[34m[51]#011train-mlogloss:0.60504#011validation-mlogloss:0.66559\u001b[0m\n",
      "\u001b[34m[52]#011train-mlogloss:0.60348#011validation-mlogloss:0.66401\u001b[0m\n",
      "\u001b[34m[53]#011train-mlogloss:0.60171#011validation-mlogloss:0.66261\u001b[0m\n",
      "\u001b[34m[54]#011train-mlogloss:0.60001#011validation-mlogloss:0.66001\u001b[0m\n",
      "\u001b[34m[55]#011train-mlogloss:0.59880#011validation-mlogloss:0.65872\u001b[0m\n",
      "\u001b[34m[56]#011train-mlogloss:0.59720#011validation-mlogloss:0.65771\u001b[0m\n",
      "\u001b[34m[57]#011train-mlogloss:0.59581#011validation-mlogloss:0.65579\u001b[0m\n",
      "\u001b[34m[58]#011train-mlogloss:0.59443#011validation-mlogloss:0.65391\u001b[0m\n",
      "\u001b[34m[59]#011train-mlogloss:0.59296#011validation-mlogloss:0.65405\u001b[0m\n",
      "\u001b[34m[60]#011train-mlogloss:0.59173#011validation-mlogloss:0.65325\u001b[0m\n",
      "\u001b[34m[61]#011train-mlogloss:0.59034#011validation-mlogloss:0.65182\u001b[0m\n",
      "\u001b[34m[62]#011train-mlogloss:0.58935#011validation-mlogloss:0.65012\u001b[0m\n",
      "\u001b[34m[63]#011train-mlogloss:0.58831#011validation-mlogloss:0.64803\u001b[0m\n",
      "\u001b[34m[64]#011train-mlogloss:0.58711#011validation-mlogloss:0.64890\u001b[0m\n",
      "\u001b[34m[65]#011train-mlogloss:0.58580#011validation-mlogloss:0.64816\u001b[0m\n",
      "\u001b[34m[66]#011train-mlogloss:0.58475#011validation-mlogloss:0.64651\u001b[0m\n",
      "\u001b[34m[67]#011train-mlogloss:0.58330#011validation-mlogloss:0.64699\u001b[0m\n",
      "\u001b[34m[68]#011train-mlogloss:0.58207#011validation-mlogloss:0.64643\u001b[0m\n",
      "\u001b[34m[69]#011train-mlogloss:0.58108#011validation-mlogloss:0.64513\u001b[0m\n",
      "\u001b[34m[70]#011train-mlogloss:0.58015#011validation-mlogloss:0.64526\u001b[0m\n",
      "\u001b[34m[71]#011train-mlogloss:0.57913#011validation-mlogloss:0.64380\u001b[0m\n",
      "\u001b[34m[72]#011train-mlogloss:0.57815#011validation-mlogloss:0.64370\u001b[0m\n",
      "\u001b[34m[73]#011train-mlogloss:0.57703#011validation-mlogloss:0.64389\u001b[0m\n",
      "\u001b[34m[74]#011train-mlogloss:0.57646#011validation-mlogloss:0.64297\u001b[0m\n",
      "\u001b[34m[75]#011train-mlogloss:0.57559#011validation-mlogloss:0.64253\u001b[0m\n",
      "\u001b[34m[76]#011train-mlogloss:0.57501#011validation-mlogloss:0.64288\u001b[0m\n",
      "\u001b[34m[77]#011train-mlogloss:0.57403#011validation-mlogloss:0.64248\u001b[0m\n",
      "\u001b[34m[78]#011train-mlogloss:0.57337#011validation-mlogloss:0.64236\u001b[0m\n",
      "\u001b[34m[79]#011train-mlogloss:0.57261#011validation-mlogloss:0.64146\u001b[0m\n",
      "\u001b[34m[80]#011train-mlogloss:0.57203#011validation-mlogloss:0.64066\u001b[0m\n",
      "\u001b[34m[81]#011train-mlogloss:0.57132#011validation-mlogloss:0.64072\u001b[0m\n",
      "\u001b[34m[82]#011train-mlogloss:0.57081#011validation-mlogloss:0.63978\u001b[0m\n",
      "\u001b[34m[83]#011train-mlogloss:0.56997#011validation-mlogloss:0.63952\u001b[0m\n",
      "\u001b[34m[84]#011train-mlogloss:0.56918#011validation-mlogloss:0.64011\u001b[0m\n",
      "\u001b[34m[85]#011train-mlogloss:0.56860#011validation-mlogloss:0.64009\u001b[0m\n",
      "\u001b[34m[86]#011train-mlogloss:0.56765#011validation-mlogloss:0.64071\u001b[0m\n",
      "\u001b[34m[87]#011train-mlogloss:0.56712#011validation-mlogloss:0.64090\u001b[0m\n",
      "\u001b[34m[88]#011train-mlogloss:0.56650#011validation-mlogloss:0.64081\u001b[0m\n",
      "\u001b[34m[89]#011train-mlogloss:0.56607#011validation-mlogloss:0.64220\u001b[0m\n",
      "\u001b[34m[90]#011train-mlogloss:0.56532#011validation-mlogloss:0.64145\u001b[0m\n",
      "\u001b[34m[91]#011train-mlogloss:0.56467#011validation-mlogloss:0.64054\u001b[0m\n",
      "\u001b[34m[92]#011train-mlogloss:0.56409#011validation-mlogloss:0.63959\u001b[0m\n",
      "\u001b[34m[93]#011train-mlogloss:0.56340#011validation-mlogloss:0.64005\u001b[0m\n",
      "\n",
      "2025-06-12 15:37:41 Completed - Training job completed\n",
      "Training seconds: 95\n",
      "Billable seconds: 95\n"
     ]
    }
   ],
   "source": [
    "role = sagemaker.get_execution_role()\n",
    "\n",
    "train_s3_path = f\"s3://{bucket}/{prefix}/train/\"\n",
    "validate_s3_path = f\"s3://{bucket}/{prefix}/validate/\"\n",
    "\n",
    "# Hyperparâmetros\n",
    "hyperparameters = {\n",
    "    \"objective\": \"multi:softmax\",\n",
    "    \"num_class\": \"4\",\n",
    "    \"eval_metric\": \"mlogloss\",\n",
    "    \"num_round\": \"100\",\n",
    "    \"max_depth\": \"3\",\n",
    "    \"eta\": \"0.1\",\n",
    "    \"subsample\": \"0.8\",\n",
    "    \"min_child_weight\": \"5\",\n",
    "    \"early_stopping_rounds\": \"10\"\n",
    "}\n",
    "\n",
    "# Obter URI da imagem do XGBoost incorporado\n",
    "xgboost_container = image_uris.retrieve(\n",
    "    framework='xgboost',\n",
    "    region=sagemaker.Session().boto_region_name,\n",
    "    version='1.0-1'\n",
    ")\n",
    "\n",
    "# Criar estimator incorporado (sem script)\n",
    "xgb_estimator = sagemaker.estimator.Estimator(\n",
    "    image_uri=xgboost_container,\n",
    "    role=role,\n",
    "    instance_count=1,\n",
    "    instance_type=\"ml.m5.xlarge\",\n",
    "    output_path=s3_output_location,\n",
    "    sagemaker_session=sagemaker.Session(),\n",
    "    hyperparameters=hyperparameters\n",
    ")\n",
    "\n",
    "# Dados\n",
    "train_input = sagemaker.inputs.TrainingInput(train_s3_path, content_type='csv')\n",
    "validate_input = sagemaker.inputs.TrainingInput(validate_s3_path, content_type='csv')\n",
    "data_channels = {'train': train_input, 'validation': validate_input}\n",
    "\n",
    "# Treino (fit do modelo)\n",
    "xgb_estimator.fit(inputs=data_channels)"
   ]
  },
  {
   "cell_type": "markdown",
   "metadata": {
    "id": "rk71F8Wo9e1V"
   },
   "source": [
    "## **7. DEPLOY DO ENDPOINT**"
   ]
  },
  {
   "cell_type": "code",
   "execution_count": 15,
   "metadata": {},
   "outputs": [
    {
     "data": {
      "text/html": [
       "<pre style=\"white-space:pre;overflow-x:auto;line-height:normal;font-family:Menlo,'DejaVu Sans Mono',consolas,'Courier New',monospace\"><span style=\"color: #7fbfbf; text-decoration-color: #7fbfbf\">[06/12/25 15:38:19] </span><span style=\"color: #0069ff; text-decoration-color: #0069ff; font-weight: bold\">INFO    </span> Creating model with name: sagemaker-xgboost-<span style=\"color: #008080; text-decoration-color: #008080; font-weight: bold\">2025</span>-06-12-15-38-19-254    <a href=\"file:///opt/conda/lib/python3.12/site-packages/sagemaker/session.py\" target=\"_blank\"><span style=\"color: #7f7f7f; text-decoration-color: #7f7f7f\">session.py</span></a><span style=\"color: #7f7f7f; text-decoration-color: #7f7f7f\">:</span><a href=\"file:///opt/conda/lib/python3.12/site-packages/sagemaker/session.py#4094\" target=\"_blank\"><span style=\"color: #7f7f7f; text-decoration-color: #7f7f7f\">4094</span></a>\n",
       "</pre>\n"
      ],
      "text/plain": [
       "\u001b[2;36m[06/12/25 15:38:19]\u001b[0m\u001b[2;36m \u001b[0m\u001b[1;38;2;0;105;255mINFO    \u001b[0m Creating model with name: sagemaker-xgboost-\u001b[1;36m2025\u001b[0m-06-12-15-38-19-254    \u001b]8;id=943077;file:///opt/conda/lib/python3.12/site-packages/sagemaker/session.py\u001b\\\u001b[2msession.py\u001b[0m\u001b]8;;\u001b\\\u001b[2m:\u001b[0m\u001b]8;id=256119;file:///opt/conda/lib/python3.12/site-packages/sagemaker/session.py#4094\u001b\\\u001b[2m4094\u001b[0m\u001b]8;;\u001b\\\n"
      ]
     },
     "metadata": {},
     "output_type": "display_data"
    },
    {
     "data": {
      "text/html": [
       "<pre style=\"white-space:pre;overflow-x:auto;line-height:normal;font-family:Menlo,'DejaVu Sans Mono',consolas,'Courier New',monospace\"><span style=\"color: #7fbfbf; text-decoration-color: #7fbfbf\">                    </span><span style=\"color: #0069ff; text-decoration-color: #0069ff; font-weight: bold\">INFO    </span> Creating endpoint-config with name                                     <a href=\"file:///opt/conda/lib/python3.12/site-packages/sagemaker/session.py\" target=\"_blank\"><span style=\"color: #7f7f7f; text-decoration-color: #7f7f7f\">session.py</span></a><span style=\"color: #7f7f7f; text-decoration-color: #7f7f7f\">:</span><a href=\"file:///opt/conda/lib/python3.12/site-packages/sagemaker/session.py#5937\" target=\"_blank\"><span style=\"color: #7f7f7f; text-decoration-color: #7f7f7f\">5937</span></a>\n",
       "<span style=\"color: #7fbfbf; text-decoration-color: #7fbfbf\">                    </span>         sagemaker-xgboost-<span style=\"color: #008080; text-decoration-color: #008080; font-weight: bold\">2025</span>-06-12-15-38-19-254                              <span style=\"color: #7f7f7f; text-decoration-color: #7f7f7f\">               </span>\n",
       "</pre>\n"
      ],
      "text/plain": [
       "\u001b[2;36m                   \u001b[0m\u001b[2;36m \u001b[0m\u001b[1;38;2;0;105;255mINFO    \u001b[0m Creating endpoint-config with name                                     \u001b]8;id=399762;file:///opt/conda/lib/python3.12/site-packages/sagemaker/session.py\u001b\\\u001b[2msession.py\u001b[0m\u001b]8;;\u001b\\\u001b[2m:\u001b[0m\u001b]8;id=854145;file:///opt/conda/lib/python3.12/site-packages/sagemaker/session.py#5937\u001b\\\u001b[2m5937\u001b[0m\u001b]8;;\u001b\\\n",
       "\u001b[2;36m                    \u001b[0m         sagemaker-xgboost-\u001b[1;36m2025\u001b[0m-06-12-15-38-19-254                              \u001b[2m               \u001b[0m\n"
      ]
     },
     "metadata": {},
     "output_type": "display_data"
    },
    {
     "data": {
      "text/html": [
       "<pre style=\"white-space:pre;overflow-x:auto;line-height:normal;font-family:Menlo,'DejaVu Sans Mono',consolas,'Courier New',monospace\"><span style=\"color: #7fbfbf; text-decoration-color: #7fbfbf\">[06/12/25 15:38:20] </span><span style=\"color: #0069ff; text-decoration-color: #0069ff; font-weight: bold\">INFO    </span> Creating endpoint with name sagemaker-xgboost-<span style=\"color: #008080; text-decoration-color: #008080; font-weight: bold\">2025</span>-06-12-15-38-19-254  <a href=\"file:///opt/conda/lib/python3.12/site-packages/sagemaker/session.py\" target=\"_blank\"><span style=\"color: #7f7f7f; text-decoration-color: #7f7f7f\">session.py</span></a><span style=\"color: #7f7f7f; text-decoration-color: #7f7f7f\">:</span><a href=\"file:///opt/conda/lib/python3.12/site-packages/sagemaker/session.py#4759\" target=\"_blank\"><span style=\"color: #7f7f7f; text-decoration-color: #7f7f7f\">4759</span></a>\n",
       "</pre>\n"
      ],
      "text/plain": [
       "\u001b[2;36m[06/12/25 15:38:20]\u001b[0m\u001b[2;36m \u001b[0m\u001b[1;38;2;0;105;255mINFO    \u001b[0m Creating endpoint with name sagemaker-xgboost-\u001b[1;36m2025\u001b[0m-06-12-15-38-19-254  \u001b]8;id=470043;file:///opt/conda/lib/python3.12/site-packages/sagemaker/session.py\u001b\\\u001b[2msession.py\u001b[0m\u001b]8;;\u001b\\\u001b[2m:\u001b[0m\u001b]8;id=736495;file:///opt/conda/lib/python3.12/site-packages/sagemaker/session.py#4759\u001b\\\u001b[2m4759\u001b[0m\u001b]8;;\u001b\\\n"
      ]
     },
     "metadata": {},
     "output_type": "display_data"
    },
    {
     "name": "stdout",
     "output_type": "stream",
     "text": [
      "------!\n",
      "\n",
      "Classification Report (Treino):\n",
      "              precision    recall  f1-score   support\n",
      "\n",
      "           0       0.74      0.64      0.69       240\n",
      "           1       0.93      0.81      0.86       289\n",
      "           2       0.81      0.52      0.63       112\n",
      "           3       0.66      0.93      0.77       275\n",
      "\n",
      "    accuracy                           0.76       916\n",
      "   macro avg       0.78      0.72      0.74       916\n",
      "weighted avg       0.78      0.76      0.76       916\n",
      "\n",
      "Classification Report (Validação):\n",
      "              precision    recall  f1-score   support\n",
      "\n",
      "           0       0.76      0.53      0.63        30\n",
      "           1       0.93      0.75      0.83        36\n",
      "           2       0.67      0.57      0.62        14\n",
      "           3       0.64      0.97      0.77        35\n",
      "\n",
      "    accuracy                           0.74       115\n",
      "   macro avg       0.75      0.71      0.71       115\n",
      "weighted avg       0.77      0.74      0.73       115\n",
      "\n"
     ]
    },
    {
     "data": {
      "image/png": "[encoded data removed]",
      "text/plain": [
       "<Figure size 640x480 with 2 Axes>"
      ]
     },
     "metadata": {},
     "output_type": "display_data"
    }
   ],
   "source": [
    "sagemaker_session = Session()\n",
    "\n",
    "# Deploy direto do estimator (modelo incorporado XGBoost)\n",
    "xgb_predictor = xgb_estimator.deploy(\n",
    "    initial_instance_count=1,\n",
    "    instance_type=\"ml.m5.xlarge\",\n",
    "    serializer=CSVSerializer()\n",
    ")\n",
    "\n",
    "# 1. Preparar dados de validação para enviar ao endpoint\n",
    "# Converter X_validate para CSV (sem header nem índice)\n",
    "csv_data = X_validate.to_csv(index=False, header=False)\n",
    "\n",
    "# 2. Enviar os dados para o endpoint e receber as previsões\n",
    "response = xgb_predictor.predict(csv_data)\n",
    "\n",
    "# 3. Converter a resposta para array numpy\n",
    "y_pred = np.fromstring(response, sep=',')\n",
    "\n",
    "# 4. Mostrar relatório de classificação\n",
    "# === NOVO BLOCO: Classification Report - Treino ===\n",
    "# 4b. Preparar dados de treino \n",
    "csv_data_train = X_train.to_csv(index=False, header=False)\n",
    "\n",
    "# 4c. Obter previsões para o conjunto de treino\n",
    "response_train = xgb_predictor.predict(csv_data_train)\n",
    "\n",
    "# 4d. Converter resposta para array numpy\n",
    "y_pred_train = np.fromstring(response_train, sep=',')\n",
    "\n",
    "print(\"\\n\")\n",
    "\n",
    "# 4e. Mostrar relatório de classificação - treino\n",
    "print(\"Classification Report (Treino):\")\n",
    "print(classification_report(y_train, y_pred_train))\n",
    "# === FIM DO BLOCO ===\n",
    "\n",
    "print(\"Classification Report (Validação):\")\n",
    "print(classification_report(y_validate, y_pred))\n",
    "\n",
    "# 5. Matriz de confusão da validação \n",
    "cm = confusion_matrix(y_validate, y_pred, labels=np.unique(y_validate))\n",
    "\n",
    "# 6. Visualizar matriz de confusão\n",
    "disp = ConfusionMatrixDisplay(confusion_matrix=cm, display_labels=np.unique(y_validate))\n",
    "disp.plot(cmap=plt.cm.Blues)\n",
    "plt.title(\"Matriz de Confusão - Validação\")\n",
    "plt.show()"
   ]
  },
  {
   "cell_type": "markdown",
   "metadata": {
    "id": "fFQ9oBlk9jZB"
   },
   "source": [
    "## **8. DELETE**"
   ]
  },
  {
   "cell_type": "code",
   "execution_count": 19,
   "metadata": {
    "id": "s_1sqnsp9awu"
   },
   "outputs": [
    {
     "data": {
      "text/html": [
       "<pre style=\"white-space:pre;overflow-x:auto;line-height:normal;font-family:Menlo,'DejaVu Sans Mono',consolas,'Courier New',monospace\"><span style=\"color: #7fbfbf; text-decoration-color: #7fbfbf\">[06/11/25 22:16:48] </span><span style=\"color: #0069ff; text-decoration-color: #0069ff; font-weight: bold\">INFO    </span> Deleting endpoint configuration with name:                             <a href=\"file:///opt/conda/lib/python3.12/site-packages/sagemaker/session.py\" target=\"_blank\"><span style=\"color: #7f7f7f; text-decoration-color: #7f7f7f\">session.py</span></a><span style=\"color: #7f7f7f; text-decoration-color: #7f7f7f\">:</span><a href=\"file:///opt/conda/lib/python3.12/site-packages/sagemaker/session.py#4913\" target=\"_blank\"><span style=\"color: #7f7f7f; text-decoration-color: #7f7f7f\">4913</span></a>\n",
       "<span style=\"color: #7fbfbf; text-decoration-color: #7fbfbf\">                    </span>         sagemaker-xgboost-<span style=\"color: #008080; text-decoration-color: #008080; font-weight: bold\">2025</span>-06-11-21-54-14-320                              <span style=\"color: #7f7f7f; text-decoration-color: #7f7f7f\">               </span>\n",
       "</pre>\n"
      ],
      "text/plain": [
       "\u001b[2;36m[06/11/25 22:16:48]\u001b[0m\u001b[2;36m \u001b[0m\u001b[1;38;2;0;105;255mINFO    \u001b[0m Deleting endpoint configuration with name:                             \u001b]8;id=346991;file:///opt/conda/lib/python3.12/site-packages/sagemaker/session.py\u001b\\\u001b[2msession.py\u001b[0m\u001b]8;;\u001b\\\u001b[2m:\u001b[0m\u001b]8;id=263204;file:///opt/conda/lib/python3.12/site-packages/sagemaker/session.py#4913\u001b\\\u001b[2m4913\u001b[0m\u001b]8;;\u001b\\\n",
       "\u001b[2;36m                    \u001b[0m         sagemaker-xgboost-\u001b[1;36m2025\u001b[0m-06-11-21-54-14-320                              \u001b[2m               \u001b[0m\n"
      ]
     },
     "metadata": {},
     "output_type": "display_data"
    },
    {
     "data": {
      "text/html": [
       "<pre style=\"white-space:pre;overflow-x:auto;line-height:normal;font-family:Menlo,'DejaVu Sans Mono',consolas,'Courier New',monospace\"><span style=\"color: #7fbfbf; text-decoration-color: #7fbfbf\">                    </span><span style=\"color: #0069ff; text-decoration-color: #0069ff; font-weight: bold\">INFO    </span> Deleting endpoint with name: sagemaker-xgboost-<span style=\"color: #008080; text-decoration-color: #008080; font-weight: bold\">2025</span>-06-11-21-54-14-320 <a href=\"file:///opt/conda/lib/python3.12/site-packages/sagemaker/session.py\" target=\"_blank\"><span style=\"color: #7f7f7f; text-decoration-color: #7f7f7f\">session.py</span></a><span style=\"color: #7f7f7f; text-decoration-color: #7f7f7f\">:</span><a href=\"file:///opt/conda/lib/python3.12/site-packages/sagemaker/session.py#4903\" target=\"_blank\"><span style=\"color: #7f7f7f; text-decoration-color: #7f7f7f\">4903</span></a>\n",
       "</pre>\n"
      ],
      "text/plain": [
       "\u001b[2;36m                   \u001b[0m\u001b[2;36m \u001b[0m\u001b[1;38;2;0;105;255mINFO    \u001b[0m Deleting endpoint with name: sagemaker-xgboost-\u001b[1;36m2025\u001b[0m-06-11-21-54-14-320 \u001b]8;id=409160;file:///opt/conda/lib/python3.12/site-packages/sagemaker/session.py\u001b\\\u001b[2msession.py\u001b[0m\u001b]8;;\u001b\\\u001b[2m:\u001b[0m\u001b]8;id=846762;file:///opt/conda/lib/python3.12/site-packages/sagemaker/session.py#4903\u001b\\\u001b[2m4903\u001b[0m\u001b]8;;\u001b\\\n"
      ]
     },
     "metadata": {},
     "output_type": "display_data"
    },
    {
     "name": "stdout",
     "output_type": "stream",
     "text": [
      "Endpoint apagado.\n"
     ]
    }
   ],
   "source": [
    "xgb_predictor.delete_endpoint(delete_endpoint_config=True)\n",
    "print(\"Endpoint apagado.\")"
   ]
  }
 ],
 "metadata": {
  "colab": {
   "provenance": []
  },
  "kernelspec": {
   "display_name": "Python 3 (ipykernel)",
   "language": "python",
   "name": "python3"
  },
  "language_info": {
   "codemirror_mode": {
    "name": "ipython",
    "version": 3
   },
   "file_extension": ".py",
   "mimetype": "text/x-python",
   "name": "python",
   "nbconvert_exporter": "python",
   "pygments_lexer": "ipython3",
   "version": "3.12.9"
  }
 },
 "nbformat": 4,
 "nbformat_minor": 4
}
