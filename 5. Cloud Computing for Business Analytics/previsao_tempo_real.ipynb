{
 "cells": [
  {
   "cell_type": "markdown",
   "id": "e1016e0f-8750-4414-8d7a-65cba440f231",
   "metadata": {},
   "source": [
    "# **-------------------------------TRABALHO CCBA----------------------------------**"
   ]
  },
  {
   "cell_type": "markdown",
   "id": "859da1f2-1078-4976-9137-ee4718043d20",
   "metadata": {},
   "source": [
    "- David Carvalho, nº2242131\n",
    "- Lígia Carteado Mena, nº2242194\n",
    "- Rui Filipe Parada, nº2211025"
   ]
  },
  {
   "cell_type": "markdown",
   "id": "2ea33634-63f6-4860-b6d2-ac067deb71d4",
   "metadata": {},
   "source": [
    "### **NOTEBOOK DE PREVISÃO EM TEMPO REAL**"
   ]
  },
  {
   "cell_type": "markdown",
   "id": "def6302a-bd6c-4dd1-838c-e386cf1dc7dc",
   "metadata": {},
   "source": [
    "Correr código após fazer deploy do endpoint no notebook principal do projeto."
   ]
  },
  {
   "cell_type": "code",
   "execution_count": 1,
   "id": "5284d521-2ac1-42ea-b8db-9b6488b4656f",
   "metadata": {},
   "outputs": [
    {
     "name": "stderr",
     "output_type": "stream",
     "text": [
      "/opt/conda/lib/python3.12/site-packages/pydantic/_internal/_fields.py:192: UserWarning: Field name \"json\" in \"MonitoringDatasetFormat\" shadows an attribute in parent \"Base\"\n",
      "  warnings.warn(\n"
     ]
    },
    {
     "name": "stdout",
     "output_type": "stream",
     "text": [
      "sagemaker.config INFO - Not applying SDK defaults from location: /etc/xdg/sagemaker/config.yaml\n",
      "sagemaker.config INFO - Not applying SDK defaults from location: /home/sagemaker-user/.config/sagemaker/config.yaml\n",
      "📱 Gama de preço prevista: MÉDIO (entre 200€ e 499€)\n"
     ]
    }
   ],
   "source": [
    "### PREVISÃO EM TEMPO REAL\n",
    "\n",
    "# ---------------- IMPORTS NECESSÁRIOS ----------------\n",
    "import pandas as pd\n",
    "import joblib\n",
    "from sagemaker.predictor import Predictor\n",
    "from sagemaker.serializers import CSVSerializer\n",
    "from sagemaker.deserializers import JSONDeserializer\n",
    "\n",
    "# ---------------- INICIALIZAÇÃO ----------------\n",
    "# Nome do endpoint (substitui pelo nome real se estiver diferente)\n",
    "ENDPOINT_NAME = 'sagemaker-xgboost-2025-06-12-15-38-19-254'\n",
    "\n",
    "# Carrega os objetos\n",
    "encoder = joblib.load('encoder_ccba.pkl')         # ColumnTransformer com OneHotEncoder e Scaler\n",
    "label_encoder = joblib.load('label_encoder_ccba.pkl')  # LabelEncoder para o target\n",
    "\n",
    "# Inicializa o predictor do SageMaker\n",
    "xgb_predictor = Predictor(\n",
    "    endpoint_name=ENDPOINT_NAME,\n",
    "    serializer=CSVSerializer(),\n",
    "    deserializer=JSONDeserializer()\n",
    ")\n",
    "\n",
    "# ---------------- INPUT DE TESTE ----------------\n",
    "# Exemplo de novo smartphone para prever a faixa de preço\n",
    "novo_smartphone = pd.DataFrame([{\n",
    "    'Brand': 'Samsung',\n",
    "    'Model': 'Galaxy M13',\n",
    "    'RAM': 4,\n",
    "    'Storage': 128,\n",
    "    'Color': 'Black'\n",
    "}])\n",
    "\n",
    "# ---------------- TRANSFORMAÇÃO ----------------\n",
    "# Aplicar transformações (encoder: ColumnTransformer com OneHot + Scaler)\n",
    "X_encoded = encoder.transform(novo_smartphone)\n",
    "\n",
    "# Serializa para CSV (modelo espera CSV como string, sem header)\n",
    "csv_input = ','.join(map(str, X_encoded[0]))\n",
    "\n",
    "# ---------------- PREVISÃO ----------------\n",
    "# Obter resposta do endpoint\n",
    "resposta = xgb_predictor.predict(csv_input)\n",
    "\n",
    "# ---------------- INTERPRETAÇÃO ----------------\n",
    "# Trata diferentes formatos de resposta\n",
    "if isinstance(resposta, (float, int)):\n",
    "    predicted_label = int(resposta)\n",
    "    probability = None\n",
    "elif isinstance(resposta, dict):\n",
    "    predicted_label = resposta.get('predicted_label', None)\n",
    "    probability = resposta.get('probability', 0)\n",
    "else:\n",
    "    predicted_label = None\n",
    "    probability = 0\n",
    "    print(\"⚠️ Resposta inesperada do endpoint:\", resposta)\n",
    "\n",
    "# Decodificar rótulo, se aplicável\n",
    "if predicted_label is not None:\n",
    "    decoded_label = label_encoder.inverse_transform([predicted_label])[0]\n",
    "else:\n",
    "    decoded_label = 'Desconhecido'\n",
    "\n",
    "# ---------------- INTERVALO DA GAMA ----------------\n",
    "def intervalo_preco(categoria):\n",
    "    categoria = categoria.lower()\n",
    "    if categoria == 'baixo':\n",
    "        return 'menos de 200€'\n",
    "    elif categoria == 'médio':\n",
    "        return 'entre 200€ e 499€'\n",
    "    elif categoria == 'alto':\n",
    "        return 'entre 450€ e 949€'\n",
    "    elif categoria == 'muito alto':\n",
    "        return '950€ ou mais'\n",
    "    else:\n",
    "        return 'intervalo desconhecido'\n",
    "\n",
    "# Mostrar resultado\n",
    "print(f\"📱 Gama de preço prevista: {decoded_label.upper()} ({intervalo_preco(decoded_label)})\")\n",
    "if probability:\n",
    "    print(f\"🤖 Confiança do modelo: {probability:.0%}\")\n"
   ]
  }
 ],
 "metadata": {
  "kernelspec": {
   "display_name": "Python 3 (ipykernel)",
   "language": "python",
   "name": "python3"
  },
  "language_info": {
   "codemirror_mode": {
    "name": "ipython",
    "version": 3
   },
   "file_extension": ".py",
   "mimetype": "text/x-python",
   "name": "python",
   "nbconvert_exporter": "python",
   "pygments_lexer": "ipython3",
   "version": "3.12.9"
  }
 },
 "nbformat": 4,
 "nbformat_minor": 5
}
